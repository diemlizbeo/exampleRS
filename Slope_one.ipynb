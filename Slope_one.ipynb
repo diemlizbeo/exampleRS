{
 "cells": [
  {
   "cell_type": "code",
   "execution_count": 1,
   "metadata": {},
   "outputs": [
    {
     "name": "stderr",
     "output_type": "stream",
     "text": [
      "<ipython-input-1-fd88dc2afc53>:7: ParserWarning: Falling back to the 'python' engine because the 'c' engine does not support regex separators (separators > 1 char and different from '\\s+' are interpreted as regex); you can avoid this warning by specifying engine='python'.\n",
      "  ratings_df = pd.read_csv('ratings.dat', sep='::', header=None)\n"
     ]
    },
    {
     "name": "stdout",
     "output_type": "stream",
     "text": [
      "Evaluating RMSE, MAE of algorithm SlopeOne on 5 split(s).\n",
      "\n",
      "                  Fold 1  Fold 2  Fold 3  Fold 4  Fold 5  Mean    Std     \n",
      "RMSE (testset)    0.9078  0.9073  0.9067  0.9065  0.9038  0.9064  0.0014  \n",
      "MAE (testset)     0.7151  0.7152  0.7151  0.7143  0.7119  0.7143  0.0012  \n",
      "Fit time          15.24   13.62   13.83   13.75   15.87   14.46   0.92    \n",
      "Test time         48.46   51.35   50.53   55.80   122.40  65.71   28.45   \n"
     ]
    },
    {
     "data": {
      "text/plain": [
       "{'test_rmse': array([0.90782548, 0.90729715, 0.90670402, 0.90654559, 0.90379059]),\n",
       " 'test_mae': array([0.71514076, 0.7152308 , 0.71509545, 0.71431919, 0.71194609]),\n",
       " 'fit_time': (15.239856719970703,\n",
       "  13.616024255752563,\n",
       "  13.831948041915894,\n",
       "  13.7549889087677,\n",
       "  15.874679565429688),\n",
       " 'test_time': (48.4588360786438,\n",
       "  51.35399007797241,\n",
       "  50.53176784515381,\n",
       "  55.804279088974,\n",
       "  122.40402483940125)}"
      ]
     },
     "execution_count": 1,
     "metadata": {},
     "output_type": "execute_result"
    }
   ],
   "source": [
    "from surprise import SlopeOne\n",
    "from surprise import Reader\n",
    "from surprise import Dataset\n",
    "from surprise.model_selection import cross_validate\n",
    "import pandas as pd\n",
    "\n",
    "ratings_df = pd.read_csv('ratings.dat', sep='::', header=None)\n",
    "del (ratings_df[3]) # xóa hàng thứ ba tương ứng \n",
    "reader = Reader(rating_scale=(1,5))\n",
    "data = Dataset.load_from_df(ratings_df,reader)\n",
    "train_set = data.build_full_trainset()\n",
    "\n",
    "algo = SlopeOne()\n",
    "cross_validate(algo, data, measures=['RMSE', 'MAE'], cv=5, verbose=True)\n"
   ]
  }
 ],
 "metadata": {
  "interpreter": {
   "hash": "3196968d684371006099b3d55edeef8ed90365227a30deaef86e5d4aa8519be0"
  },
  "kernelspec": {
   "display_name": "Python 3.10.2 64-bit",
   "language": "python",
   "name": "python3"
  },
  "language_info": {
   "codemirror_mode": {
    "name": "ipython",
    "version": 3
   },
   "file_extension": ".py",
   "mimetype": "text/x-python",
   "name": "python",
   "nbconvert_exporter": "python",
   "pygments_lexer": "ipython3",
   "version": "3.10.2"
  },
  "orig_nbformat": 4
 },
 "nbformat": 4,
 "nbformat_minor": 2
}
